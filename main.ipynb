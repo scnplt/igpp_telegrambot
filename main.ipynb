{
 "cells": [
  {
   "cell_type": "code",
   "execution_count": 1,
   "metadata": {},
   "outputs": [],
   "source": [
    "import requests"
   ]
  },
  {
   "cell_type": "code",
   "execution_count": 14,
   "metadata": {},
   "outputs": [],
   "source": [
    "headers = { 'User-Agent': 'Instagram 219.0.0.12.117 Android'}\n",
    "base_url = 'https://www.instagram.com/api/v1/users/web_profile_info'"
   ]
  },
  {
   "cell_type": "code",
   "execution_count": 15,
   "metadata": {},
   "outputs": [],
   "source": [
    "username='cpsertan'"
   ]
  },
  {
   "cell_type": "code",
   "execution_count": 16,
   "metadata": {},
   "outputs": [],
   "source": [
    "r = requests.get(\"{}/?username={}\".format(base_url, username), headers=headers)"
   ]
  },
  {
   "cell_type": "code",
   "execution_count": 22,
   "metadata": {},
   "outputs": [
    {
     "data": {
      "text/plain": [
       "'https://instagram.fesb3-2.fna.fbcdn.net/v/t51.2885-19/357280838_954727775831017_8992270767410695577_n.jpg?stp=dst-jpg_s320x320&_nc_ht=instagram.fesb3-2.fna.fbcdn.net&_nc_cat=101&_nc_ohc=yQn9x2x004oAX-NiOYG&edm=AOQ1c0wBAAAA&ccb=7-5&oh=00_AfAy1WPHYaT5E35J1M7udIvJxU_xXy8mlRDTe-evI-3w0w&oe=65256749&_nc_sid=8b3546'"
      ]
     },
     "execution_count": 22,
     "metadata": {},
     "output_type": "execute_result"
    }
   ],
   "source": [
    "r.json()['data']['user']['profile_pic_url_hd']"
   ]
  }
 ],
 "metadata": {
  "kernelspec": {
   "display_name": "env",
   "language": "python",
   "name": "python3"
  },
  "language_info": {
   "codemirror_mode": {
    "name": "ipython",
    "version": 3
   },
   "file_extension": ".py",
   "mimetype": "text/x-python",
   "name": "python",
   "nbconvert_exporter": "python",
   "pygments_lexer": "ipython3",
   "version": "3.11.0"
  }
 },
 "nbformat": 4,
 "nbformat_minor": 2
}
